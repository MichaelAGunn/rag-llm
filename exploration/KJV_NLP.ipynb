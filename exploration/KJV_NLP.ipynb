{
 "cells": [
  {
   "cell_type": "markdown",
   "id": "b8c633f5-9198-4a92-9258-cfedbfefa781",
   "metadata": {},
   "source": [
    "# Analysis of an Obsidian Vault\n",
    "**Michael Gunn**\n",
    "The purpose of this paper is to analyze any Obsidian Vault of any size or kind. This exploration is relevant to the production of a Retrieval-Augmented Generation (RAG) Large Language Model (LLM).\n",
    "The contents of the vault are stored in a vector database, which is easily retrievable for a typical LLM. This is meant to prevent hallucination.\n",
    "The Obsidian Vault is herein analyzed like any corpus of text data. The analysis will end with a transformation into vectors, as preparation for storing the corpus in a database."
   ]
  },
  {
   "cell_type": "code",
   "execution_count": 1,
   "id": "2e463c5c-f782-4bee-afd4-21165e6bd8e3",
   "metadata": {},
   "outputs": [],
   "source": [
    "import os\n",
    "import pandas as pd\n",
    "import seaborn as sns\n",
    "import matplotlib.pyplot as plt\n",
    "from textblob import TextBlob"
   ]
  },
  {
   "cell_type": "code",
   "execution_count": 2,
   "id": "936b6ebc-5e66-47cb-a859-2d863739a75b",
   "metadata": {},
   "outputs": [
    {
     "name": "stdout",
     "output_type": "stream",
     "text": [
      "   Unnamed: 0 language translation book  chapter  verse  \\\n",
      "0           0       en         kjv  Gen        1      1   \n",
      "1           1       en         kjv  Gen        1      2   \n",
      "2           2       en         kjv  Gen        1      3   \n",
      "3           3       en         kjv  Gen        1      4   \n",
      "4           4       en         kjv  Gen        1      5   \n",
      "\n",
      "                                                text  \n",
      "0  In the beginning God created the heaven and th...  \n",
      "1  And the earth was without form, and void; and ...  \n",
      "2  And God said, Let there be light: and there wa...  \n",
      "3  And God saw the light, that it was good: and G...  \n",
      "4  And God called the light Day, and the darkness...  \n"
     ]
    }
   ],
   "source": [
    "# Find parent dir; open Bible from data dir.\n",
    "cwd = os.getcwd()\n",
    "p2cwd = os.path.dirname(cwd)\n",
    "kjv_df = pd.read_csv(os.path.join(p2cwd, 'data','en_kjv.csv'))\n",
    "print(kjv_df.head())"
   ]
  },
  {
   "cell_type": "code",
   "execution_count": 3,
   "id": "b9185670-a1b4-46e1-8381-e58c167d998a",
   "metadata": {},
   "outputs": [
    {
     "ename": "ValueError",
     "evalue": "Length of values (0) does not match length of index (31102)",
     "output_type": "error",
     "traceback": [
      "\u001b[1;31m---------------------------------------------------------------------------\u001b[0m",
      "\u001b[1;31mValueError\u001b[0m                                Traceback (most recent call last)",
      "Cell \u001b[1;32mIn[3], line 10\u001b[0m\n\u001b[0;32m      8\u001b[0m \tblob \u001b[38;5;241m=\u001b[39m TextBlob(text)\n\u001b[0;32m      9\u001b[0m \tsentiment_result \u001b[38;5;241m=\u001b[39m blob\u001b[38;5;241m.\u001b[39msentiment\n\u001b[1;32m---> 10\u001b[0m \u001b[43mkjv_df\u001b[49m\u001b[38;5;241;43m.\u001b[39;49m\u001b[43minsert\u001b[49m\u001b[43m(\u001b[49m\u001b[38;5;241;43m0\u001b[39;49m\u001b[43m,\u001b[49m\u001b[43m \u001b[49m\u001b[38;5;124;43m'\u001b[39;49m\u001b[38;5;124;43msentiment\u001b[39;49m\u001b[38;5;124;43m'\u001b[39;49m\u001b[43m,\u001b[49m\u001b[43m \u001b[49m\u001b[43msentiments\u001b[49m\u001b[43m)\u001b[49m\n\u001b[0;32m     11\u001b[0m \u001b[38;5;28mprint\u001b[39m(kjv_df\u001b[38;5;241m.\u001b[39mhead())\n\u001b[0;32m     12\u001b[0m \u001b[38;5;28mprint\u001b[39m(kjv_df\u001b[38;5;241m.\u001b[39mtail())\n",
      "File \u001b[1;32m~\\Documents\\rag-llm\\venv\\lib\\site-packages\\pandas\\core\\frame.py:5171\u001b[0m, in \u001b[0;36mDataFrame.insert\u001b[1;34m(self, loc, column, value, allow_duplicates)\u001b[0m\n\u001b[0;32m   5168\u001b[0m \u001b[38;5;28;01melif\u001b[39;00m \u001b[38;5;28misinstance\u001b[39m(value, DataFrame):\n\u001b[0;32m   5169\u001b[0m     value \u001b[38;5;241m=\u001b[39m value\u001b[38;5;241m.\u001b[39miloc[:, \u001b[38;5;241m0\u001b[39m]\n\u001b[1;32m-> 5171\u001b[0m value, refs \u001b[38;5;241m=\u001b[39m \u001b[38;5;28;43mself\u001b[39;49m\u001b[38;5;241;43m.\u001b[39;49m\u001b[43m_sanitize_column\u001b[49m\u001b[43m(\u001b[49m\u001b[43mvalue\u001b[49m\u001b[43m)\u001b[49m\n\u001b[0;32m   5172\u001b[0m \u001b[38;5;28mself\u001b[39m\u001b[38;5;241m.\u001b[39m_mgr\u001b[38;5;241m.\u001b[39minsert(loc, column, value, refs\u001b[38;5;241m=\u001b[39mrefs)\n",
      "File \u001b[1;32m~\\Documents\\rag-llm\\venv\\lib\\site-packages\\pandas\\core\\frame.py:5266\u001b[0m, in \u001b[0;36mDataFrame._sanitize_column\u001b[1;34m(self, value)\u001b[0m\n\u001b[0;32m   5263\u001b[0m     \u001b[38;5;28;01mreturn\u001b[39;00m _reindex_for_setitem(value, \u001b[38;5;28mself\u001b[39m\u001b[38;5;241m.\u001b[39mindex)\n\u001b[0;32m   5265\u001b[0m \u001b[38;5;28;01mif\u001b[39;00m is_list_like(value):\n\u001b[1;32m-> 5266\u001b[0m     \u001b[43mcom\u001b[49m\u001b[38;5;241;43m.\u001b[39;49m\u001b[43mrequire_length_match\u001b[49m\u001b[43m(\u001b[49m\u001b[43mvalue\u001b[49m\u001b[43m,\u001b[49m\u001b[43m \u001b[49m\u001b[38;5;28;43mself\u001b[39;49m\u001b[38;5;241;43m.\u001b[39;49m\u001b[43mindex\u001b[49m\u001b[43m)\u001b[49m\n\u001b[0;32m   5267\u001b[0m arr \u001b[38;5;241m=\u001b[39m sanitize_array(value, \u001b[38;5;28mself\u001b[39m\u001b[38;5;241m.\u001b[39mindex, copy\u001b[38;5;241m=\u001b[39m\u001b[38;5;28;01mTrue\u001b[39;00m, allow_2d\u001b[38;5;241m=\u001b[39m\u001b[38;5;28;01mTrue\u001b[39;00m)\n\u001b[0;32m   5268\u001b[0m \u001b[38;5;28;01mif\u001b[39;00m (\n\u001b[0;32m   5269\u001b[0m     \u001b[38;5;28misinstance\u001b[39m(value, Index)\n\u001b[0;32m   5270\u001b[0m     \u001b[38;5;129;01mand\u001b[39;00m value\u001b[38;5;241m.\u001b[39mdtype \u001b[38;5;241m==\u001b[39m \u001b[38;5;124m\"\u001b[39m\u001b[38;5;124mobject\u001b[39m\u001b[38;5;124m\"\u001b[39m\n\u001b[1;32m   (...)\u001b[0m\n\u001b[0;32m   5273\u001b[0m     \u001b[38;5;66;03m# TODO: Remove kludge in sanitize_array for string mode when enforcing\u001b[39;00m\n\u001b[0;32m   5274\u001b[0m     \u001b[38;5;66;03m# this deprecation\u001b[39;00m\n",
      "File \u001b[1;32m~\\Documents\\rag-llm\\venv\\lib\\site-packages\\pandas\\core\\common.py:573\u001b[0m, in \u001b[0;36mrequire_length_match\u001b[1;34m(data, index)\u001b[0m\n\u001b[0;32m    569\u001b[0m \u001b[38;5;250m\u001b[39m\u001b[38;5;124;03m\"\"\"\u001b[39;00m\n\u001b[0;32m    570\u001b[0m \u001b[38;5;124;03mCheck the length of data matches the length of the index.\u001b[39;00m\n\u001b[0;32m    571\u001b[0m \u001b[38;5;124;03m\"\"\"\u001b[39;00m\n\u001b[0;32m    572\u001b[0m \u001b[38;5;28;01mif\u001b[39;00m \u001b[38;5;28mlen\u001b[39m(data) \u001b[38;5;241m!=\u001b[39m \u001b[38;5;28mlen\u001b[39m(index):\n\u001b[1;32m--> 573\u001b[0m     \u001b[38;5;28;01mraise\u001b[39;00m \u001b[38;5;167;01mValueError\u001b[39;00m(\n\u001b[0;32m    574\u001b[0m         \u001b[38;5;124m\"\u001b[39m\u001b[38;5;124mLength of values \u001b[39m\u001b[38;5;124m\"\u001b[39m\n\u001b[0;32m    575\u001b[0m         \u001b[38;5;124mf\u001b[39m\u001b[38;5;124m\"\u001b[39m\u001b[38;5;124m(\u001b[39m\u001b[38;5;132;01m{\u001b[39;00m\u001b[38;5;28mlen\u001b[39m(data)\u001b[38;5;132;01m}\u001b[39;00m\u001b[38;5;124m) \u001b[39m\u001b[38;5;124m\"\u001b[39m\n\u001b[0;32m    576\u001b[0m         \u001b[38;5;124m\"\u001b[39m\u001b[38;5;124mdoes not match length of index \u001b[39m\u001b[38;5;124m\"\u001b[39m\n\u001b[0;32m    577\u001b[0m         \u001b[38;5;124mf\u001b[39m\u001b[38;5;124m\"\u001b[39m\u001b[38;5;124m(\u001b[39m\u001b[38;5;132;01m{\u001b[39;00m\u001b[38;5;28mlen\u001b[39m(index)\u001b[38;5;132;01m}\u001b[39;00m\u001b[38;5;124m)\u001b[39m\u001b[38;5;124m\"\u001b[39m\n\u001b[0;32m    578\u001b[0m     )\n",
      "\u001b[1;31mValueError\u001b[0m: Length of values (0) does not match length of index (31102)"
     ]
    }
   ],
   "source": [
    "# Preprocess text data\n",
    "sentiments = []\n",
    "for index, row in kjv_df.iterrows():\n",
    "\tbook = row['book']\n",
    "\tchapter = int(row['chapter'])\n",
    "\tverse = int(row['verse'])\n",
    "\ttext = row['text']\n",
    "\tblob = TextBlob(text)\n",
    "\tsentiment_result = blob.sentiment\n",
    "kjv_df.insert(0, 'sentiment', sentiments)\n",
    "print(kjv_df.head())\n",
    "print(kjv_df.tail())"
   ]
  },
  {
   "cell_type": "markdown",
   "id": "23462b76-4119-4f75-8042-9a6fd0366156",
   "metadata": {},
   "source": [
    "## Part of Speech Tagging\n",
    "- Breakdown of parts of speech for entire Bible.\n",
    "- Number of distinct verbs, with frequencies."
   ]
  },
  {
   "cell_type": "markdown",
   "id": "ead3db0b-1448-4418-aa50-fada5a40bc64",
   "metadata": {},
   "source": [
    "## Sentiment Analysis\n",
    "- What is the overall sentiment of The Book of Isaiah by chapter (averaging by verse)?\n",
    "- What is the overall sentiment of the Bible by book type (Law, Prophet, Writing, Gospel, Epistle, Revelation)?"
   ]
  },
  {
   "cell_type": "code",
   "execution_count": null,
   "id": "16e1bb22-e1b4-420a-aaeb-42695da29deb",
   "metadata": {},
   "outputs": [],
   "source": []
  }
 ],
 "metadata": {
  "kernelspec": {
   "display_name": "venv",
   "language": "python",
   "name": "venv"
  },
  "language_info": {
   "codemirror_mode": {
    "name": "ipython",
    "version": 3
   },
   "file_extension": ".py",
   "mimetype": "text/x-python",
   "name": "python",
   "nbconvert_exporter": "python",
   "pygments_lexer": "ipython3",
   "version": "3.10.7"
  }
 },
 "nbformat": 4,
 "nbformat_minor": 5
}
