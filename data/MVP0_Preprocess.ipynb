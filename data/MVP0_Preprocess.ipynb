{
 "cells": [
  {
   "cell_type": "markdown",
   "id": "67330b68-4757-4f83-982c-00d4579b0078",
   "metadata": {},
   "source": [
    "# Basic RAG Pipeline\n",
    "## Load Data"
   ]
  },
  {
   "cell_type": "code",
   "execution_count": 10,
   "id": "fbc57152-bc51-42e2-be56-eba92af47db8",
   "metadata": {},
   "outputs": [
    {
     "data": {
      "text/html": [
       "<div>\n",
       "<style scoped>\n",
       "    .dataframe tbody tr th:only-of-type {\n",
       "        vertical-align: middle;\n",
       "    }\n",
       "\n",
       "    .dataframe tbody tr th {\n",
       "        vertical-align: top;\n",
       "    }\n",
       "\n",
       "    .dataframe thead th {\n",
       "        text-align: right;\n",
       "    }\n",
       "</style>\n",
       "<table border=\"1\" class=\"dataframe\">\n",
       "  <thead>\n",
       "    <tr style=\"text-align: right;\">\n",
       "      <th></th>\n",
       "      <th>language</th>\n",
       "      <th>translation</th>\n",
       "      <th>book</th>\n",
       "      <th>chapter</th>\n",
       "      <th>verse</th>\n",
       "      <th>text</th>\n",
       "    </tr>\n",
       "    <tr>\n",
       "      <th>index</th>\n",
       "      <th></th>\n",
       "      <th></th>\n",
       "      <th></th>\n",
       "      <th></th>\n",
       "      <th></th>\n",
       "      <th></th>\n",
       "    </tr>\n",
       "  </thead>\n",
       "  <tbody>\n",
       "    <tr>\n",
       "      <th>0</th>\n",
       "      <td>en</td>\n",
       "      <td>kjv</td>\n",
       "      <td>Gen</td>\n",
       "      <td>1</td>\n",
       "      <td>1</td>\n",
       "      <td>In the beginning God created the heaven and th...</td>\n",
       "    </tr>\n",
       "    <tr>\n",
       "      <th>1</th>\n",
       "      <td>en</td>\n",
       "      <td>kjv</td>\n",
       "      <td>Gen</td>\n",
       "      <td>1</td>\n",
       "      <td>2</td>\n",
       "      <td>And the earth was without form, and void; and ...</td>\n",
       "    </tr>\n",
       "    <tr>\n",
       "      <th>2</th>\n",
       "      <td>en</td>\n",
       "      <td>kjv</td>\n",
       "      <td>Gen</td>\n",
       "      <td>1</td>\n",
       "      <td>3</td>\n",
       "      <td>And God said, Let there be light: and there wa...</td>\n",
       "    </tr>\n",
       "    <tr>\n",
       "      <th>3</th>\n",
       "      <td>en</td>\n",
       "      <td>kjv</td>\n",
       "      <td>Gen</td>\n",
       "      <td>1</td>\n",
       "      <td>4</td>\n",
       "      <td>And God saw the light, that it was good: and G...</td>\n",
       "    </tr>\n",
       "    <tr>\n",
       "      <th>4</th>\n",
       "      <td>en</td>\n",
       "      <td>kjv</td>\n",
       "      <td>Gen</td>\n",
       "      <td>1</td>\n",
       "      <td>5</td>\n",
       "      <td>And God called the light Day, and the darkness...</td>\n",
       "    </tr>\n",
       "  </tbody>\n",
       "</table>\n",
       "</div>"
      ],
      "text/plain": [
       "      language translation book  chapter  verse  \\\n",
       "index                                             \n",
       "0           en         kjv  Gen        1      1   \n",
       "1           en         kjv  Gen        1      2   \n",
       "2           en         kjv  Gen        1      3   \n",
       "3           en         kjv  Gen        1      4   \n",
       "4           en         kjv  Gen        1      5   \n",
       "\n",
       "                                                    text  \n",
       "index                                                     \n",
       "0      In the beginning God created the heaven and th...  \n",
       "1      And the earth was without form, and void; and ...  \n",
       "2      And God said, Let there be light: and there wa...  \n",
       "3      And God saw the light, that it was good: and G...  \n",
       "4      And God called the light Day, and the darkness...  "
      ]
     },
     "execution_count": 10,
     "metadata": {},
     "output_type": "execute_result"
    }
   ],
   "source": [
    "import pandas as pd\n",
    "\n",
    "# Load King James Bible as corups. There are 66 books in the Bible.\n",
    "kjv_df = pd.read_csv('en_kjv.csv', index_col='index')\n",
    "kjv_df.head()"
   ]
  },
  {
   "cell_type": "markdown",
   "id": "ad1cede9-f3d2-4f13-923e-6c18f9b26e47",
   "metadata": {},
   "source": [
    "## Basic NLP\n",
    "### Verse lengths\n",
    "The Bible is a collection of 66 books written over a period of 1400 years. The first books were written during the Bronze Age Collapse, and the last were written in the first century A.D. In the 13th century A.D. a Catholic bishop split the books into chapters, and in the 18th century, a French publisher split the chapters into verses.\n",
    "The purpose of splitting the Books into chapters and verses was to make information easy to find and reference for scholarship. It is possible that the verses could serve as chunks for embeddings. This hypothesis will be tested in a future project. For now, it is assumed that the verse divisions can be used as chunks.\n",
    "The following 2 cells show a statistical mapping of the distribution of verse lengths. This normal distribution suggests that a more conventional chunking method would be better-suited to embedding (notwithstanding the fact that verses do not overlap)."
   ]
  },
  {
   "cell_type": "code",
   "execution_count": 11,
   "id": "de14b13a-3992-4a82-b67b-e49461e8be01",
   "metadata": {},
   "outputs": [
    {
     "name": "stdout",
     "output_type": "stream",
     "text": [
      "Min: 4\n",
      "Max: 111\n",
      "Range: 107\n",
      "Mean: 32.05\n",
      "Median: 30.0\n",
      "StDev: 13.63\n",
      "Variance: 185.82\n",
      "Skewedness: 0.87\n",
      "Kurtosis: 0.7\n"
     ]
    }
   ],
   "source": [
    "import tiktoken\n",
    "import numpy as np\n",
    "from scipy.stats import skew, kurtosis\n",
    "\n",
    "# NLP on extracted verses\n",
    "def bible_verse_tokens(df, encoding_name):\n",
    "    result = [] # To be returned\n",
    "    book_count = ''\n",
    "    for index, row in df.iterrows():\n",
    "        book = row['book'] # Progress notice\n",
    "        encoding = tiktoken.get_encoding(encoding_name)\n",
    "        result.append(len(encoding.encode(row['text'])))\n",
    "    return result\n",
    "\n",
    "# Token length distribution analysis\n",
    "verse_lengths = bible_verse_tokens(kjv_df, 'cl100k_base')\n",
    "shortest_verse = np.min(verse_lengths)\n",
    "longest_verse = np.max(verse_lengths)\n",
    "verse_range = longest_verse - shortest_verse\n",
    "verse_mean = round(np.mean(verse_lengths), 2)\n",
    "verse_median = round(np.median(verse_lengths), 2)\n",
    "verse_standard_dev = round(np.std(verse_lengths), 2)\n",
    "verse_variance = round(np.var(verse_lengths), 2)\n",
    "verse_skew = round(skew(verse_lengths), 2)\n",
    "verse_kurt = round(kurtosis(verse_lengths), 2)\n",
    "print(\"Min: {}\\nMax: {}\\nRange: {}\\nMean: {}\\nMedian: {}\\nStDev: {}\\nVariance: {}\\nSkewedness: {}\\nKurtosis: {}\". \\\n",
    "      format(shortest_verse, longest_verse, verse_range, verse_mean, verse_median, verse_standard_dev, verse_variance, verse_skew, verse_kurt))"
   ]
  },
  {
   "cell_type": "code",
   "execution_count": 12,
   "id": "d00c2565-fbb0-40a8-b2f0-96bced79db1d",
   "metadata": {},
   "outputs": [
    {
     "data": {
      "image/png": "[encoded data removed]",
      "text/plain": [
       "<Figure size 640x480 with 1 Axes>"
      ]
     },
     "metadata": {},
     "output_type": "display_data"
    }
   ],
   "source": [
    "# Normal distribution of verse embedding lengths\n",
    "import matplotlib.pyplot as plt\n",
    "from scipy.stats import norm\n",
    "\n",
    "plt.hist(verse_lengths, bins=125, density=True, alpha=0.7, color='g')\n",
    "plt.show()"
   ]
  },
  {
   "cell_type": "markdown",
   "id": "9aa4f54e-9378-40fa-bc26-ca5129b507c2",
   "metadata": {},
   "source": [
    "### Adding Metadata\n",
    "The books of the Bible come in various lengths. Some parts are poetry and other parts are prose. There are various authors, who had their own writing styles and purposes for writing. One could even say that there are various genres of books in the Bible. These labels could be usefull to a RAG LLM for answering queries. For example, if a user's prompt asks only for passages in the Epistles, that would mean that there should be no references from the Gospels, nor from the Old Testament. If the user's prompt asks for something that Peter wrote, it should not have a quote from Paul or John.\n",
    "The types of metadata to add include: chapter and verse counts, authors (where unknown, say anonymous), category (law, prophets, writings, gospels, epistles, and revelation), testament (old and new), whether poetry or prose (going verse by verse), and whether \"red letter\" (i.e. the words of Jesus, as marked in some printings)."
   ]
  },
  {
   "cell_type": "code",
   "execution_count": null,
   "id": "d65f1f42-959a-4f47-a022-ab935651fc2b",
   "metadata": {},
   "outputs": [],
   "source": [
    "# TO DO\n",
    "# chapter and verse counts as metadata\n",
    "# algorithm to add metadata to the pandas dataframe"
   ]
  },
  {
   "cell_type": "markdown",
   "id": "a70777b3-a317-447c-9375-3a86d1568b62",
   "metadata": {},
   "source": [
    "## Assemble Documents\n",
    "The following 2 cells format the documents with their associated metadata, embed them, provide ids, and then store the embeddings in a local vector database. In the future, this database will be stored in the cloud."
   ]
  },
  {
   "cell_type": "code",
   "execution_count": 13,
   "id": "0018ef9c-a23f-4671-9337-716c71f78434",
   "metadata": {},
   "outputs": [
    {
     "name": "stdout",
     "output_type": "stream",
     "text": [
      "Documents created.\n"
     ]
    }
   ],
   "source": [
    "from langchain_core.documents import Document\n",
    "from uuid import uuid4\n",
    "\n",
    "# Arrange the verses as documents with metadata\n",
    "def document_verses(df):\n",
    "    documents = []\n",
    "    count = 0\n",
    "    for index, row in df.iterrows():\n",
    "        count += 1\n",
    "        doc = Document(\n",
    "            page_content=row['text'],\n",
    "            metadata={\n",
    "                'title': row['book'],\n",
    "                'chapter': row['chapter'],\n",
    "                'verse': row['verse']\n",
    "            },\n",
    "            id=count\n",
    "        )\n",
    "        documents.append(doc)\n",
    "    uuids = [str(uuid4()) for _ in range(len(documents))]\n",
    "    return documents, uuids\n",
    "verse_docs, verse_ids = document_verses(kjv_df)\n",
    "print(\"Documents created.\")"
   ]
  },
  {
   "cell_type": "code",
   "execution_count": 14,
   "id": "99d03f95-2f14-4f9d-ab4e-8fa99859b80b",
   "metadata": {},
   "outputs": [
    {
     "name": "stdout",
     "output_type": "stream",
     "text": [
      "Begin document upload...\n",
      "Batch 0 of 31102...\n",
      "Batch 5000 of 31102...\n",
      "Batch 10000 of 31102...\n",
      "Batch 15000 of 31102...\n",
      "Batch 20000 of 31102...\n",
      "Batch 25000 of 31102...\n",
      "Batch 30000 of 31102...\n",
      "Documents uploaded.\n"
     ]
    }
   ],
   "source": [
    "from langchain_ollama import OllamaEmbeddings\n",
    "from langchain_chroma import Chroma\n",
    "\n",
    "# Store the vectorized documents in batches\n",
    "batch_size = 5000\n",
    "embeddings = OllamaEmbeddings(model='llama3')\n",
    "vectorstore = Chroma(\n",
    "    collection_name='King-James-Bible',\n",
    "    embedding_function=embeddings,\n",
    "    persist_directory='./chroma_kjv_db'\n",
    ")\n",
    "#vectorstore.add_documents(documents=verse_docs, ids=verse_ids)\n",
    "print(\"Begin document upload...\")\n",
    "batch_count = 0\n",
    "batch_total = verse_docs // batch_size\n",
    "for i in range(0, len(verse_docs), batch_size):\n",
    "    batch_count += 1\n",
    "    print(\"Batch {} of {}...\".format(batch_count, batch_total))\n",
    "    batch_docs = verse_docs[i:i+batch_size]\n",
    "    batch_ids = verse_ids[i:i+batch_size]\n",
    "    vectorstore.add_documents(documents=batch_docs, ids=batch_ids)\n",
    "print(\"Documents uploaded.\")\n",
    "\n",
    "# Retrieve verses\n",
    "retriever = vectorstore.as_retriever()"
   ]
  },
  {
   "cell_type": "markdown",
   "id": "527c4c3b-6ff4-4e08-aad0-212f99874a62",
   "metadata": {},
   "source": [
    "## Retrieval and Generation\n",
    "Finally, this RAG LLM can be tested to see whether it can provide information on the Bible."
   ]
  },
  {
   "cell_type": "code",
   "execution_count": 15,
   "id": "72935a92-2825-407a-bcae-78bf9d690435",
   "metadata": {},
   "outputs": [
    {
     "data": {
      "text/plain": [
       "[Document(metadata={'chapter': 7, 'title': 'Num', 'verse': 39}, page_content='One young bullock, one ram, one lamb of the first year, for a burnt offering:'),\n",
       " Document(metadata={'chapter': 15, 'title': 'Num', 'verse': 37}, page_content='And the LORD spake unto Moses, saying,'),\n",
       " Document(metadata={'chapter': 22, 'title': 'Josh', 'verse': 25}, page_content='For the LORD hath made Jordan a border between us and you, ye children of Reuben and children of Gad; ye have no part in the LORD: so shall your children make our children cease from fearing the LORD.'),\n",
       " Document(metadata={'chapter': 1, 'title': 'Ruth', 'verse': 11}, page_content='And Naomi said, Turn again, my daughters: why will ye go with me? are there yet any more sons in my womb, that they may be your husbands?')]"
      ]
     },
     "execution_count": 15,
     "metadata": {},
     "output_type": "execute_result"
    }
   ],
   "source": [
    "retriever.invoke(\"dry bones\")"
   ]
  },
  {
   "cell_type": "markdown",
   "id": "a4b205c9-7b2f-43e5-8e91-476c148638e0",
   "metadata": {},
   "source": [
    "I was hoping that by invoking \"dry bones\" that it would reference the passage in Ezekiel where he sees skeletons in a desert that reassemble themselves. The KJV literally describes them as \"dry bones\". None of these passages even mention dryness or bones!"
   ]
  },
  {
   "cell_type": "code",
   "execution_count": 26,
   "id": "1089049b-bc41-4a7f-9a8d-9d24ac6192aa",
   "metadata": {},
   "outputs": [
    {
     "name": "stdout",
     "output_type": "stream",
     "text": [
      "I'd be happy to help! As an assistant to a Christian Bible scholar, I'll provide answers based on the King James Version (KJV) of the Bible. Please go ahead and ask your questions!\n",
      "\n",
      "(Note: I'll use the standard notation for referencing biblical passages, e.g., \"Matthew 5:3\" or \"John 14:6\".)\n"
     ]
    }
   ],
   "source": [
    "from langchain_ollama import ChatOllama\n",
    "from langchain_core.prompts import ChatPromptTemplate\n",
    "from langchain_core.runnables import RunnablePassthrough\n",
    "from langchain_core.output_parsers import StrOutputParser, JsonOutputParser\n",
    "\n",
    "#prompt = \"What did Jesus say about wine?\"\n",
    "prompt = ChatPromptTemplate([\n",
    "    ('system', 'You are a Christian Bible scholar\\'s assistant. Only give specific references to the King James Bible.')\n",
    "])\n",
    "llm = ChatOllama(\n",
    "    model=\"llama3\",\n",
    "    temperature=0\n",
    ")\n",
    "def format_docs(docs):\n",
    "    return \"\\n\\n\".join(doc.page_content for doc in docs)\n",
    "rag_chain = prompt | llm | StrOutputParser()\n",
    "print(rag_chain.invoke({'question': 'Where did Jesus talk about wine?', 'documents': verse_docs}))"
   ]
  },
  {
   "cell_type": "markdown",
   "id": "7e2728db-4c3b-4514-8658-bac9ec54b6f0",
   "metadata": {},
   "source": [
    "## Conclusion\n",
    "This RAG LLM is as simple as possible, just to produce an MVP. It is not accurate at all, and does not seem to reference the documents.\n",
    "It is likely that the inability to understand and retrieve documents is due to the fact that the traditional verse divisions are not designed for preprocessing embeddings. In the future, several chunking techniques will be compared to the traditional verse divisions for accuracy's sake.\n",
    "The RAG chain is as simple as possible just to produce an end-to-end pipeline as quickly as possible. The next iteration will have some checks to ensure that the documents retrieved are relevant to the query. There will likely not be a web search. I will continue to work solely with the King James Bible until I get the model to work correctly."
   ]
  }
 ],
 "metadata": {
  "kernelspec": {
   "display_name": "Python 3 (ipykernel)",
   "language": "python",
   "name": "python3"
  },
  "language_info": {
   "codemirror_mode": {
    "name": "ipython",
    "version": 3
   },
   "file_extension": ".py",
   "mimetype": "text/x-python",
   "name": "python",
   "nbconvert_exporter": "python",
   "pygments_lexer": "ipython3",
   "version": "3.10.7"
  }
 },
 "nbformat": 4,
 "nbformat_minor": 5
}
